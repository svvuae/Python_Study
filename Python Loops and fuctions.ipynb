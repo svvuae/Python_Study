{
 "cells": [
  {
   "cell_type": "code",
   "execution_count": 8,
   "id": "3995064d-3eb2-41eb-b1c1-7188b5ac2a3b",
   "metadata": {},
   "outputs": [],
   "source": [
    "dd = {'name':'sreenath'}"
   ]
  },
  {
   "cell_type": "code",
   "execution_count": 9,
   "id": "b5fac502-5593-40c8-80e3-dd7d75ac7882",
   "metadata": {},
   "outputs": [
    {
     "data": {
      "text/plain": [
       "{'name': 'sreenath'}"
      ]
     },
     "execution_count": 9,
     "metadata": {},
     "output_type": "execute_result"
    }
   ],
   "source": [
    "dd"
   ]
  },
  {
   "cell_type": "code",
   "execution_count": 12,
   "id": "a84d3cee-7011-4962-ba56-04da18ba0296",
   "metadata": {},
   "outputs": [],
   "source": [
    "dd = {'age':34,'alergies':['dust','shell']}"
   ]
  },
  {
   "cell_type": "code",
   "execution_count": 13,
   "id": "e02c47a4-be2e-4b78-86f0-26bb29fdc8ef",
   "metadata": {},
   "outputs": [
    {
     "data": {
      "text/plain": [
       "{'age': 34, 'alergies': ['dust', 'shell']}"
      ]
     },
     "execution_count": 13,
     "metadata": {},
     "output_type": "execute_result"
    }
   ],
   "source": [
    "dd"
   ]
  },
  {
   "cell_type": "code",
   "execution_count": 15,
   "id": "1b387a14-0c39-4c8b-ae31-79fb3c712d48",
   "metadata": {},
   "outputs": [],
   "source": [
    "dd={'name':'sreenath','age':34,'alergies':['dust','shell']}"
   ]
  },
  {
   "cell_type": "code",
   "execution_count": 16,
   "id": "58834025-43c2-4d5b-8c9f-1f97d726ce99",
   "metadata": {},
   "outputs": [
    {
     "data": {
      "text/plain": [
       "{'name': 'sreenath', 'age': 34, 'alergies': ['dust', 'shell']}"
      ]
     },
     "execution_count": 16,
     "metadata": {},
     "output_type": "execute_result"
    }
   ],
   "source": [
    "dd"
   ]
  },
  {
   "cell_type": "code",
   "execution_count": 19,
   "id": "d189e0b5-8617-4b0f-8826-856f217962cb",
   "metadata": {},
   "outputs": [
    {
     "data": {
      "text/plain": [
       "True"
      ]
     },
     "execution_count": 19,
     "metadata": {},
     "output_type": "execute_result"
    }
   ],
   "source": [
    "'name' in dd"
   ]
  },
  {
   "cell_type": "code",
   "execution_count": 24,
   "id": "13f88443-3925-4645-a72d-0b84e84865e9",
   "metadata": {},
   "outputs": [],
   "source": [
    "y=[2,4,5,6,7,1,2,5,'sreenath']*4"
   ]
  },
  {
   "cell_type": "code",
   "execution_count": 25,
   "id": "ffa06775-9341-4fd7-8751-c213c9dd86fe",
   "metadata": {},
   "outputs": [
    {
     "data": {
      "text/plain": [
       "'sreenath'"
      ]
     },
     "execution_count": 25,
     "metadata": {},
     "output_type": "execute_result"
    }
   ],
   "source": [
    "x"
   ]
  },
  {
   "cell_type": "code",
   "execution_count": 26,
   "id": "dd1704d8-b208-4d5c-ac1a-abdb1613b051",
   "metadata": {},
   "outputs": [
    {
     "data": {
      "text/plain": [
       "True"
      ]
     },
     "execution_count": 26,
     "metadata": {},
     "output_type": "execute_result"
    }
   ],
   "source": [
    "x='sreenath'\n",
    "x in y"
   ]
  },
  {
   "cell_type": "code",
   "execution_count": 27,
   "id": "005ea99d-d45e-432f-892f-fd2a23d74ec7",
   "metadata": {},
   "outputs": [
    {
     "data": {
      "text/plain": [
       "True"
      ]
     },
     "execution_count": 27,
     "metadata": {},
     "output_type": "execute_result"
    }
   ],
   "source": [
    "a=[1,2,5,7,8,12,11,56,{26},{24,56}]\n",
    "b={26}\n",
    "b in a"
   ]
  },
  {
   "cell_type": "code",
   "execution_count": 28,
   "id": "fff1cc66-6f1b-4041-ad6b-b1a010417da0",
   "metadata": {},
   "outputs": [
    {
     "data": {
      "text/plain": [
       "True"
      ]
     },
     "execution_count": 28,
     "metadata": {},
     "output_type": "execute_result"
    }
   ],
   "source": [
    "b={26,26,26}\n",
    "b in a"
   ]
  },
  {
   "cell_type": "code",
   "execution_count": 29,
   "id": "c9776af3-d021-4891-9381-c09ccbd630b1",
   "metadata": {},
   "outputs": [
    {
     "data": {
      "text/plain": [
       "False"
      ]
     },
     "execution_count": 29,
     "metadata": {},
     "output_type": "execute_result"
    }
   ],
   "source": [
    "b={26,26,26,25}\n",
    "b in a"
   ]
  },
  {
   "cell_type": "code",
   "execution_count": null,
   "id": "419ac269-64d8-40ad-8884-8211fe28d77f",
   "metadata": {},
   "outputs": [],
   "source": []
  }
 ],
 "metadata": {
  "kernelspec": {
   "display_name": "Python 3 (ipykernel)",
   "language": "python",
   "name": "python3"
  },
  "language_info": {
   "codemirror_mode": {
    "name": "ipython",
    "version": 3
   },
   "file_extension": ".py",
   "mimetype": "text/x-python",
   "name": "python",
   "nbconvert_exporter": "python",
   "pygments_lexer": "ipython3",
   "version": "3.9.19"
  }
 },
 "nbformat": 4,
 "nbformat_minor": 5
}
