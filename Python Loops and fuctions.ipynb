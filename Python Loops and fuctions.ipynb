{
 "cells": [
  {
   "cell_type": "code",
   "execution_count": 1,
   "id": "3995064d-3eb2-41eb-b1c1-7188b5ac2a3b",
   "metadata": {},
   "outputs": [],
   "source": [
    "dd = {'name':'sreenath'}"
   ]
  },
  {
   "cell_type": "code",
   "execution_count": 9,
   "id": "b5fac502-5593-40c8-80e3-dd7d75ac7882",
   "metadata": {},
   "outputs": [
    {
     "data": {
      "text/plain": [
       "{'name': 'sreenath'}"
      ]
     },
     "execution_count": 9,
     "metadata": {},
     "output_type": "execute_result"
    }
   ],
   "source": [
    "dd"
   ]
  },
  {
   "cell_type": "code",
   "execution_count": 12,
   "id": "a84d3cee-7011-4962-ba56-04da18ba0296",
   "metadata": {},
   "outputs": [],
   "source": [
    "dd = {'age':34,'alergies':['dust','shell']}"
   ]
  },
  {
   "cell_type": "code",
   "execution_count": 13,
   "id": "e02c47a4-be2e-4b78-86f0-26bb29fdc8ef",
   "metadata": {},
   "outputs": [
    {
     "data": {
      "text/plain": [
       "{'age': 34, 'alergies': ['dust', 'shell']}"
      ]
     },
     "execution_count": 13,
     "metadata": {},
     "output_type": "execute_result"
    }
   ],
   "source": [
    "dd"
   ]
  },
  {
   "cell_type": "code",
   "execution_count": 15,
   "id": "1b387a14-0c39-4c8b-ae31-79fb3c712d48",
   "metadata": {},
   "outputs": [],
   "source": [
    "dd={'name':'sreenath','age':34,'alergies':['dust','shell']}"
   ]
  },
  {
   "cell_type": "code",
   "execution_count": 16,
   "id": "58834025-43c2-4d5b-8c9f-1f97d726ce99",
   "metadata": {},
   "outputs": [
    {
     "data": {
      "text/plain": [
       "{'name': 'sreenath', 'age': 34, 'alergies': ['dust', 'shell']}"
      ]
     },
     "execution_count": 16,
     "metadata": {},
     "output_type": "execute_result"
    }
   ],
   "source": [
    "dd"
   ]
  },
  {
   "cell_type": "code",
   "execution_count": 19,
   "id": "d189e0b5-8617-4b0f-8826-856f217962cb",
   "metadata": {},
   "outputs": [
    {
     "data": {
      "text/plain": [
       "True"
      ]
     },
     "execution_count": 19,
     "metadata": {},
     "output_type": "execute_result"
    }
   ],
   "source": [
    "'name' in dd"
   ]
  },
  {
   "cell_type": "code",
   "execution_count": 24,
   "id": "13f88443-3925-4645-a72d-0b84e84865e9",
   "metadata": {},
   "outputs": [],
   "source": [
    "y=[2,4,5,6,7,1,2,5,'sreenath']*4"
   ]
  },
  {
   "cell_type": "code",
   "execution_count": 25,
   "id": "ffa06775-9341-4fd7-8751-c213c9dd86fe",
   "metadata": {},
   "outputs": [
    {
     "data": {
      "text/plain": [
       "'sreenath'"
      ]
     },
     "execution_count": 25,
     "metadata": {},
     "output_type": "execute_result"
    }
   ],
   "source": [
    "x"
   ]
  },
  {
   "cell_type": "code",
   "execution_count": 26,
   "id": "dd1704d8-b208-4d5c-ac1a-abdb1613b051",
   "metadata": {},
   "outputs": [
    {
     "data": {
      "text/plain": [
       "True"
      ]
     },
     "execution_count": 26,
     "metadata": {},
     "output_type": "execute_result"
    }
   ],
   "source": [
    "x='sreenath'\n",
    "x in y"
   ]
  },
  {
   "cell_type": "code",
   "execution_count": 27,
   "id": "005ea99d-d45e-432f-892f-fd2a23d74ec7",
   "metadata": {},
   "outputs": [
    {
     "data": {
      "text/plain": [
       "True"
      ]
     },
     "execution_count": 27,
     "metadata": {},
     "output_type": "execute_result"
    }
   ],
   "source": [
    "a=[1,2,5,7,8,12,11,56,{26},{24,56}]\n",
    "b={26}\n",
    "b in a"
   ]
  },
  {
   "cell_type": "code",
   "execution_count": 28,
   "id": "fff1cc66-6f1b-4041-ad6b-b1a010417da0",
   "metadata": {},
   "outputs": [
    {
     "data": {
      "text/plain": [
       "True"
      ]
     },
     "execution_count": 28,
     "metadata": {},
     "output_type": "execute_result"
    }
   ],
   "source": [
    "b={26,26,26}\n",
    "b in a"
   ]
  },
  {
   "cell_type": "code",
   "execution_count": 29,
   "id": "c9776af3-d021-4891-9381-c09ccbd630b1",
   "metadata": {},
   "outputs": [
    {
     "data": {
      "text/plain": [
       "False"
      ]
     },
     "execution_count": 29,
     "metadata": {},
     "output_type": "execute_result"
    }
   ],
   "source": [
    "b={26,26,26,25}\n",
    "b in a"
   ]
  },
  {
   "cell_type": "code",
   "execution_count": 1,
   "id": "419ac269-64d8-40ad-8884-8211fe28d77f",
   "metadata": {},
   "outputs": [],
   "source": [
    "import numpy as np"
   ]
  },
  {
   "cell_type": "code",
   "execution_count": 2,
   "id": "a676003d-7ac6-4a46-8e2b-f959d41531a4",
   "metadata": {},
   "outputs": [],
   "source": [
    "a = np.array(np.arange(100))"
   ]
  },
  {
   "cell_type": "code",
   "execution_count": 3,
   "id": "d43396e9-803b-4394-a176-af452b72c22f",
   "metadata": {},
   "outputs": [
    {
     "name": "stdout",
     "output_type": "stream",
     "text": [
      "[ 0  1  2  3  4  5  6  7  8  9 10 11 12 13 14 15 16 17 18 19 20 21 22 23\n",
      " 24 25 26 27 28 29 30 31 32 33 34 35 36 37 38 39 40 41 42 43 44 45 46 47\n",
      " 48 49 50 51 52 53 54 55 56 57 58 59 60 61 62 63 64 65 66 67 68 69 70 71\n",
      " 72 73 74 75 76 77 78 79 80 81 82 83 84 85 86 87 88 89 90 91 92 93 94 95\n",
      " 96 97 98 99]\n"
     ]
    }
   ],
   "source": [
    "print(a)"
   ]
  },
  {
   "cell_type": "code",
   "execution_count": 5,
   "id": "8099a6aa-3a77-41bd-96e3-bfe2d503b9d6",
   "metadata": {},
   "outputs": [
    {
     "data": {
      "text/plain": [
       "(100,)"
      ]
     },
     "execution_count": 5,
     "metadata": {},
     "output_type": "execute_result"
    }
   ],
   "source": [
    "a.shape"
   ]
  },
  {
   "cell_type": "code",
   "execution_count": 8,
   "id": "7a741ac3-9184-4b52-a97e-c3982cd5c56e",
   "metadata": {},
   "outputs": [],
   "source": [
    "b = a.reshape(2,50)"
   ]
  },
  {
   "cell_type": "code",
   "execution_count": 7,
   "id": "5da0e6bf-5adc-460f-886b-2cb9bd14928e",
   "metadata": {},
   "outputs": [
    {
     "data": {
      "text/plain": [
       "(100,)"
      ]
     },
     "execution_count": 7,
     "metadata": {},
     "output_type": "execute_result"
    }
   ],
   "source": [
    "a.shape"
   ]
  },
  {
   "cell_type": "code",
   "execution_count": 9,
   "id": "5f051720-b57b-4865-8bf8-afcc36e255fb",
   "metadata": {},
   "outputs": [
    {
     "data": {
      "text/plain": [
       "(2, 50)"
      ]
     },
     "execution_count": 9,
     "metadata": {},
     "output_type": "execute_result"
    }
   ],
   "source": [
    "b.shape"
   ]
  },
  {
   "cell_type": "code",
   "execution_count": null,
   "id": "91245d94-23be-44c1-9b13-4f114e37599f",
   "metadata": {},
   "outputs": [],
   "source": []
  },
  {
   "cell_type": "code",
   "execution_count": null,
   "id": "49d1de16-64fc-4858-8b06-92091035c86d",
   "metadata": {},
   "outputs": [],
   "source": []
  }
 ],
 "metadata": {
  "kernelspec": {
   "display_name": "Python 3 (ipykernel)",
   "language": "python",
   "name": "python3"
  },
  "language_info": {
   "codemirror_mode": {
    "name": "ipython",
    "version": 3
   },
   "file_extension": ".py",
   "mimetype": "text/x-python",
   "name": "python",
   "nbconvert_exporter": "python",
   "pygments_lexer": "ipython3",
   "version": "3.11.9"
  }
 },
 "nbformat": 4,
 "nbformat_minor": 5
}
